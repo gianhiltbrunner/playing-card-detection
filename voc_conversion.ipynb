{
 "cells": [
  {
   "cell_type": "code",
   "execution_count": 32,
   "metadata": {},
   "outputs": [],
   "source": [
    "import xml.etree.ElementTree as ET\n",
    "import pickle\n",
    "import os\n",
    "from os import listdir, getcwd\n",
    "from os.path import join\n",
    "\n",
    "with open(\"data/cards.names\",\"r\") as f:\n",
    "    classes=f.read().split(\"\\n\")\n",
    "\n",
    "for i in range(len(classes)):\n",
    "    classes[i] = classes[i] + \".png\"\n",
    "\n",
    "def convert(size, box):\n",
    "    dw = 1./size[0]\n",
    "    dh = 1./size[1]\n",
    "    x = (box[0] + box[1])/2.0\n",
    "    y = (box[2] + box[3])/2.0\n",
    "    w = box[1] - box[0]\n",
    "    h = box[3] - box[2]\n",
    "    x = x*dw\n",
    "    w = w*dw\n",
    "    y = y*dh\n",
    "    h = h*dh\n",
    "    return (x,y,w,h)\n",
    "\n",
    "def convert_annotation(image_id):\n",
    "    in_file = open('one_card_out/%s.xml'%(image_id))\n",
    "    out_file = open('one_card_out/%s.txt'%(image_id), 'w')\n",
    "    tree=ET.parse(in_file)\n",
    "    root = tree.getroot()\n",
    "    size = root.find('size')\n",
    "    w = int(size.find('width').text)\n",
    "    h = int(size.find('height').text)\n",
    "\n",
    "    for obj in root.iter('object'):\n",
    "        difficult = obj.find('difficult').text\n",
    "        cls = obj.find('name').text\n",
    "        if cls not in classes or int(difficult) == 1:\n",
    "            print(cls)\n",
    "            continue\n",
    "        cls_id = classes.index(cls)\n",
    "        xmlbox = obj.find('bndbox')\n",
    "        b = (float(xmlbox.find('xmin').text), float(xmlbox.find('xmax').text), float(xmlbox.find('ymin').text), float(xmlbox.find('ymax').text))\n",
    "        bb = convert((w,h), b)\n",
    "        out_file.write(str(cls_id) + \" \" + \" \".join([str(a) for a in bb]) + '\\n')"
   ]
  },
  {
   "cell_type": "code",
   "execution_count": 14,
   "metadata": {},
   "outputs": [],
   "source": [
    "import glob\n",
    "files = glob.glob('one_card_out/*')\n",
    "\n",
    "image_ids = []\n",
    "for file in files:\n",
    "    image_ids.append(file.split(\"/\")[1].split(\".\")[0])"
   ]
  },
  {
   "cell_type": "code",
   "execution_count": 33,
   "metadata": {},
   "outputs": [
    {
     "data": {
      "text/plain": [
       "['c_10.png',\n",
       " 'c_6.png',\n",
       " 'c_7.png',\n",
       " 'c_8.png',\n",
       " 'c_9.png',\n",
       " 'c_a.png',\n",
       " 'c_j.png',\n",
       " 'c_k.png',\n",
       " 'c_q.png',\n",
       " 'd_10.png',\n",
       " 'd_6.png',\n",
       " 'd_7.png',\n",
       " 'd_8.png',\n",
       " 'd_9.png',\n",
       " 'd_a.png',\n",
       " 'd_j.png',\n",
       " 'd_k.png',\n",
       " 'd_q.png',\n",
       " 'h_10.png',\n",
       " 'h_6.png',\n",
       " 'h_7.png',\n",
       " 'h_8.png',\n",
       " 'h_9.png',\n",
       " 'h_a.png',\n",
       " 'h_j.png',\n",
       " 'h_k.png',\n",
       " 'h_q.png',\n",
       " 's_10.png',\n",
       " 's_6.png',\n",
       " 's_7.png',\n",
       " 's_8.png',\n",
       " 's_9.png',\n",
       " 's_a.png',\n",
       " 's_j.png',\n",
       " 's_k.png',\n",
       " 's_q.png']"
      ]
     },
     "execution_count": 33,
     "metadata": {},
     "output_type": "execute_result"
    }
   ],
   "source": [
    "classes"
   ]
  },
  {
   "cell_type": "code",
   "execution_count": 37,
   "metadata": {},
   "outputs": [],
   "source": [
    "wd = getcwd()\n",
    "\n",
    "list_file = open(\"img_list.txt\", 'w')\n",
    "\n",
    "for image_id in image_ids:\n",
    "    list_file.write(wd + '/one_card_out/%s.jpg\\n'%(image_id))\n",
    "    convert_annotation(image_id)\n",
    "list_file.close()\n",
    "\n"
   ]
  },
  {
   "cell_type": "code",
   "execution_count": 35,
   "metadata": {},
   "outputs": [
    {
     "data": {
      "text/plain": [
       "'/Users/gianhiltbrunner/Development/playing-card-detection'"
      ]
     },
     "execution_count": 35,
     "metadata": {},
     "output_type": "execute_result"
    }
   ],
   "source": [
    "wd"
   ]
  }
 ],
 "metadata": {
  "kernelspec": {
   "display_name": "Python 3",
   "language": "python",
   "name": "python3"
  },
  "language_info": {
   "codemirror_mode": {
    "name": "ipython",
    "version": 3
   },
   "file_extension": ".py",
   "mimetype": "text/x-python",
   "name": "python",
   "nbconvert_exporter": "python",
   "pygments_lexer": "ipython3",
   "version": "3.7.4"
  }
 },
 "nbformat": 4,
 "nbformat_minor": 4
}
